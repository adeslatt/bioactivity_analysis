{
 "cells": [
  {
   "cell_type": "markdown",
   "id": "5c998e7d-ff12-4211-a8f1-1f36f636f0ab",
   "metadata": {},
   "source": [
    "# Bioactivity Analysis for Proteins\n",
    "\n",
    "This notebook demonstrates how to:\n",
    "1. Fetch bioactivity data from PubChem and ChEMBL for a given protein (by UniProt ID).\n",
    "2. Summarize key bioactivity metrics (e.g., IC50, Ki, Kd).\n",
    "3. Save results to files in JSON or YAML format.\n",
    "\n",
    "**Tools:** \n",
    "- Python\n",
    "- Requests (for PubChem API)\n",
    "- ChEMBL Web Resource Client\n",
    "\n",
    "1. Import required modules"
   ]
  },
  {
   "cell_type": "code",
   "execution_count": 1,
   "id": "b41d79d9-18ca-4f88-8c36-46e509f10c53",
   "metadata": {},
   "outputs": [],
   "source": [
    "from bioactivity_analysis.fetch_pubchem import fetch_pubchem_bioactivity\n",
    "from bioactivity_analysis.fetch_chembl import fetch_chembl_bioactivity\n",
    "from bioactivity_analysis.utils import generate_summary, save_to_file\n",
    "import pandas as pd\n",
    "import json"
   ]
  },
  {
   "cell_type": "markdown",
   "id": "8400aecf-fb44-4f0d-a5d3-5d469fc62e5a",
   "metadata": {},
   "source": [
    "2. Feel free to change the UniProt ID and define output settings interactively."
   ]
  },
  {
   "cell_type": "code",
   "execution_count": 11,
   "id": "e5be650d-eb86-4531-a172-a12218ed1516",
   "metadata": {},
   "outputs": [],
   "source": [
    "# Input variables\n",
    "uniprot_id = \"Q9NZQ7\"  # Example UniProt ID\n",
    "output_base = \"../../results\"\n",
    "output_format = \"json\"  # Choose \"json\" or \"yaml\"\n",
    "\n",
    "# Construct output file name\n",
    "output_file = f\"{output_base}/{uniprot_id}.{output_format}\""
   ]
  },
  {
   "cell_type": "markdown",
   "id": "e12500f6-7fc6-4d57-a0f0-63f4b9fa7c3e",
   "metadata": {},
   "source": [
    "3. Fetch Bioactivity Data\n",
    "Fetch the data from PubChem and ChEMBL."
   ]
  },
  {
   "cell_type": "code",
   "execution_count": 12,
   "id": "7bbe7d69-808b-4aa3-95fc-ae8145b3a474",
   "metadata": {},
   "outputs": [
    {
     "name": "stdout",
     "output_type": "stream",
     "text": [
      "PubChem data fetched: 0 records\n",
      "ChEMBL data fetched: 134 records\n"
     ]
    }
   ],
   "source": [
    "# Fetch data from PubChem\n",
    "pubchem_data = fetch_pubchem_bioactivity(uniprot_id)\n",
    "print(f\"PubChem data fetched: {len(pubchem_data)} records\")\n",
    "\n",
    "# Fetch data from ChEMBL\n",
    "chembl_data = fetch_chembl_bioactivity(uniprot_id)\n",
    "print(f\"ChEMBL data fetched: {len(chembl_data)} records\")\n"
   ]
  },
  {
   "cell_type": "markdown",
   "id": "90637be8-5b02-4a14-8e03-09cd738f731c",
   "metadata": {},
   "source": [
    "4. Summarize Bioactivity Data\n",
    "Generate and display summaries of IC50, Ki, and Kd ranges."
   ]
  },
  {
   "cell_type": "code",
   "execution_count": 13,
   "id": "9c7f9acb-de1a-4b67-a2aa-1637d813a37e",
   "metadata": {},
   "outputs": [
    {
     "name": "stdout",
     "output_type": "stream",
     "text": [
      "PubChem Summary:\n",
      "{}\n",
      "ChEMBL Summary:\n",
      "{\n",
      "    \"IC50\": {\n",
      "        \"min\": 1.0,\n",
      "        \"max\": 93500.0\n",
      "    },\n",
      "    \"Kd\": {\n",
      "        \"min\": 0.019,\n",
      "        \"max\": 3000000.0\n",
      "    }\n",
      "}\n"
     ]
    }
   ],
   "source": [
    "# Generate summaries\n",
    "pubchem_summary = generate_summary(pubchem_data)\n",
    "chembl_summary = generate_summary(chembl_data)\n",
    "\n",
    "# Display summaries\n",
    "print(\"PubChem Summary:\")\n",
    "print(json.dumps(pubchem_summary, indent=4))\n",
    "\n",
    "print(\"ChEMBL Summary:\")\n",
    "print(json.dumps(chembl_summary, indent=4))"
   ]
  },
  {
   "cell_type": "markdown",
   "id": "d288ee3f-8a98-4ea8-a93f-e4dc18557432",
   "metadata": {},
   "source": [
    "5. Save Results\n",
    "Save the fetched data and summaries to files."
   ]
  },
  {
   "cell_type": "code",
   "execution_count": 14,
   "id": "a4de569a-6f49-4643-8287-2712a4c018bd",
   "metadata": {},
   "outputs": [
    {
     "name": "stdout",
     "output_type": "stream",
     "text": [
      "Results saved to ../../results/Q9NZQ7.json\n"
     ]
    }
   ],
   "source": [
    "# Prepare output data\n",
    "output_data = {\n",
    "    \"UniProt_ID\": uniprot_id,\n",
    "    \"PubChem\": {\n",
    "        \"Bioactivity\": pubchem_data,\n",
    "        \"Summary\": pubchem_summary,\n",
    "    },\n",
    "    \"ChEMBL\": {\n",
    "        \"Bioactivity\": chembl_data,\n",
    "        \"Summary\": chembl_summary,\n",
    "    },\n",
    "}\n",
    "\n",
    "# Save the file\n",
    "save_to_file(output_data, output_file, format=output_format)\n",
    "print(f\"Results saved to {output_file}\")"
   ]
  },
  {
   "cell_type": "markdown",
   "id": "689e1702-54ba-46c0-87ef-10737d043b5f",
   "metadata": {},
   "source": [
    "7. Visualize Overlaps\n",
    "Add a visualization for overlaps between datasets (e.g., a Venn diagram)."
   ]
  },
  {
   "cell_type": "code",
   "execution_count": 15,
   "id": "3194543e-3d3f-4049-ac9e-42d7dbfa9cc6",
   "metadata": {},
   "outputs": [
    {
     "name": "stdout",
     "output_type": "stream",
     "text": [
      "Number of overlapping compounds: 0\n"
     ]
    }
   ],
   "source": [
    "# Visualization placeholder\n",
    "# Example: Compare PubChem and ChEMBL molecule IDs\n",
    "pubchem_ids = {entry.get(\"CID\") for entry in pubchem_data if \"CID\" in entry}\n",
    "chembl_ids = {entry.get(\"molecule_chembl_id\") for entry in chembl_data if \"molecule_chembl_id\" in entry}\n",
    "\n",
    "# Intersection\n",
    "overlap = pubchem_ids.intersection(chembl_ids)\n",
    "print(f\"Number of overlapping compounds: {len(overlap)}\")"
   ]
  },
  {
   "cell_type": "code",
   "execution_count": null,
   "id": "ff14dfb3-2309-42ce-8d8c-c5d587b5ff8d",
   "metadata": {},
   "outputs": [],
   "source": []
  }
 ],
 "metadata": {
  "kernelspec": {
   "display_name": "Python 3 (ipykernel)",
   "language": "python",
   "name": "python3"
  },
  "language_info": {
   "codemirror_mode": {
    "name": "ipython",
    "version": 3
   },
   "file_extension": ".py",
   "mimetype": "text/x-python",
   "name": "python",
   "nbconvert_exporter": "python",
   "pygments_lexer": "ipython3",
   "version": "3.9.20"
  }
 },
 "nbformat": 4,
 "nbformat_minor": 5
}
