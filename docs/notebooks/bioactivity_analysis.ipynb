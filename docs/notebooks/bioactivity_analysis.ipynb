{
 "cells": [
  {
   "cell_type": "markdown",
   "id": "5c998e7d-ff12-4211-a8f1-1f36f636f0ab",
   "metadata": {},
   "source": [
    "# Bioactivity Data Analysis with PubChem and ChEMBL\n",
    "\n",
    "This notebook provides an interactive way to explore bioactivity data for a specific protein target using UniProt IDs.\n",
    "This is a notebook to show protein bioActivity accessible from PubChem and ChEMBL to show what data can be derived from these sites and compare and contrast the results.\n",
    "\n",
    "---\n",
    "\n",
    "## Setup\n",
    "\n"
   ]
  },
  {
   "cell_type": "code",
   "execution_count": 1,
   "id": "b41d79d9-18ca-4f88-8c36-46e509f10c53",
   "metadata": {},
   "outputs": [],
   "source": [
    "import requests\n",
    "import argparse\n",
    "import pandas as pd\n",
    "import matplotlib.pyplot as plt\n",
    "from chembl_webresource_client.new_client import new_client\n",
    "import unittest"
   ]
  },
  {
   "cell_type": "markdown",
   "id": "8400aecf-fb44-4f0d-a5d3-5d469fc62e5a",
   "metadata": {},
   "source": [
    "Define all the modules to fetch the bioactivity data from PubChem and ChEMBL"
   ]
  },
  {
   "cell_type": "code",
   "execution_count": 2,
   "id": "e5be650d-eb86-4531-a172-a12218ed1516",
   "metadata": {},
   "outputs": [],
   "source": [
    "# Module: Fetch data from PubChem\n",
    "def fetch_pubchem_bioactivity(uniprot_id):\n",
    "    \"\"\"\n",
    "    Fetch bioactivity data from PubChem for a given UniProt ID.\n",
    "    \"\"\"\n",
    "    url = f\"https://pubchem.ncbi.nlm.nih.gov/rest/pug_view/data/protein/{uniprot_id}/json/\"\n",
    "    response = requests.get(url)\n",
    "    if response.status_code == 200:\n",
    "        return response.json().get('Table', {}).get('Row', [])\n",
    "    else:\n",
    "        return []\n",
    "\n",
    "# Module: Fetch data from ChEMBL\n",
    "def fetch_chembl_bioactivity(uniprot_id):\n",
    "    \"\"\"\n",
    "    Fetch bioactivity data from ChEMBL for a given UniProt ID.\n",
    "    \"\"\"\n",
    "    target = new_client.target.filter(target_components__accession=uniprot_id)\n",
    "    targets = list(target)\n",
    "    if not targets:\n",
    "        return []\n",
    "    \n",
    "    target_chembl_id = targets[0]['target_chembl_id']\n",
    "    activities = new_client.activity.filter(\n",
    "        target_chembl_id=target_chembl_id,\n",
    "        standard_type__in=[\"IC50\", \"Ki\", \"Kd\"]\n",
    "    )\n",
    "    return list(activities)\n",
    "\n",
    "\n",
    "# Module: Extract GO terms\n",
    "def extract_chembl_go_terms(uniprot_id):\n",
    "    \"\"\"\n",
    "    Extract GO terms from ChEMBL for a given UniProt ID.\n",
    "    \"\"\"\n",
    "    target = new_client.target.filter(target_components__accession=uniprot_id)\n",
    "    targets = list(target)\n",
    "    if not targets:\n",
    "        return []\n",
    "    \n",
    "    go_terms = targets[0].get('component_go_slim', [])\n",
    "    return go_terms\n",
    "\n",
    "\n",
    "def extract_pubchem_go_terms(uniprot_id):\n",
    "    \"\"\"\n",
    "    Extract GO terms from PubChem for a given UniProt ID.\n",
    "    \"\"\"\n",
    "    url = f\"https://pubchem.ncbi.nlm.nih.gov/rest/pug_view/data/protein/{uniprot_id}/json/\"\n",
    "    response = requests.get(url)\n",
    "    if response.status_code == 200:\n",
    "        description = response.json()\n",
    "        return description.get('Table', {}).get('GO_Terms', [])\n",
    "    else:\n",
    "        return []\n",
    "\n",
    "\n",
    "# Module: Save data to CSV\n",
    "def save_to_csv(data, filename):\n",
    "    \"\"\"\n",
    "    Save data to a CSV file.\n",
    "    \"\"\"\n",
    "    df = pd.DataFrame(data)\n",
    "    df.to_csv(filename, index=False)\n",
    "\n",
    "\n",
    "# Module: Visualization\n",
    "def visualize_overlap(data1, data2, label1, label2, title):\n",
    "    \"\"\"\n",
    "    Visualize overlaps between two datasets using a Venn diagram.\n",
    "    \"\"\"\n",
    "    set1 = set(data1)\n",
    "    set2 = set(data2)\n",
    "    plt.figure(figsize=(6, 6))\n",
    "    plt.title(title)\n",
    "    plt.gca().add_patch(plt.Circle((0.5, 0.5), 0.3, fill=False, label=label1))\n",
    "    plt.gca().add_patch(plt.Circle((0.7, 0.5), 0.3, fill=False, label=label2))\n",
    "    plt.legend()\n",
    "    plt.show()\n"
   ]
  },
  {
   "cell_type": "markdown",
   "id": "e12500f6-7fc6-4d57-a0f0-63f4b9fa7c3e",
   "metadata": {},
   "source": [
    "Enter Target Protein"
   ]
  },
  {
   "cell_type": "code",
   "execution_count": 3,
   "id": "7bbe7d69-808b-4aa3-95fc-ae8145b3a474",
   "metadata": {},
   "outputs": [
    {
     "name": "stdin",
     "output_type": "stream",
     "text": [
      "Enter UniProt ID for the target protein:  P00734\n"
     ]
    }
   ],
   "source": [
    "# Interactive Input\n",
    "uniprot_id = input(\"Enter UniProt ID for the target protein: \")\n"
   ]
  },
  {
   "cell_type": "code",
   "execution_count": 7,
   "id": "6336172b-7b1d-45f8-a656-cf88542ab7fb",
   "metadata": {},
   "outputs": [
    {
     "name": "stdout",
     "output_type": "stream",
     "text": [
      "PubChem: Retrieved 0 bioactivity records.\n"
     ]
    }
   ],
   "source": [
    "# Fetch data\n",
    "pubchem_bioactivity = fetch_pubchem_bioactivity(uniprot_id)\n",
    "# Show counts\n",
    "print(f\"PubChem: Retrieved {len(pubchem_bioactivity)} bioactivity records.\")\n"
   ]
  },
  {
   "cell_type": "code",
   "execution_count": null,
   "id": "9c7f9acb-de1a-4b67-a2aa-1637d813a37e",
   "metadata": {},
   "outputs": [],
   "source": [
    "\n"
   ]
  },
  {
   "cell_type": "code",
   "execution_count": null,
   "id": "d195aa4f-5a01-46bf-9394-16096b36a4a3",
   "metadata": {},
   "outputs": [],
   "source": [
    "print(f\"ChEMBL : Retrieved {len(chembl_bioactivity)} bioactivity records.\")\n",
    "print(f\"PubChem: Retrieved {len(pubchem_go_terms)} pubchem_go_terms.\")\n",
    "print(f\"ChEMBL : Retrieved {len(chembl_go_terms)} chembl_go_terms.\")"
   ]
  },
  {
   "cell_type": "code",
   "execution_count": null,
   "id": "a4de569a-6f49-4643-8287-2712a4c018bd",
   "metadata": {},
   "outputs": [],
   "source": [
    "# Visualize results\n",
    "visualize_overlap(\n",
    "   [d['CID'] for d in pubchem_bioactivity if 'CID' in d],\n",
    "   [d['molecule_chembl_id'] for d in chembl_bioactivity if 'molecule_chembl_id' in d],\n",
    "   \"PubChem\",\n",
    "   \"ChEMBL\",\n",
    "   \"Bioactivity Overlap\"\n",
    ")"
   ]
  },
  {
   "cell_type": "code",
   "execution_count": null,
   "id": "adc14a3d-8520-4ecd-943c-192f2caf9077",
   "metadata": {},
   "outputs": [],
   "source": [
    "\n",
    "# Save results to CSV\n",
    "save_to_csv(pubchem_bioactivity, f\"{args.uniprot_id_pubchem_bioactivity.csv\")\n",
    "save_to_csv(chembl_bioactivity, f\"{args.uniprot_id}_chembl_bioactivity.csv\")\n",
    "save_to_csv(pubchem_go_terms, f\"{args.uniprot_id}_pubchem_go_terms.csv\")\n",
    "save_to_csv(chembl_go_terms, f\"{args.uniprot_id}_chembl_go_terms.csv\")\n",
    "\n"
   ]
  },
  {
   "cell_type": "code",
   "execution_count": null,
   "id": "3194543e-3d3f-4049-ac9e-42d7dbfa9cc6",
   "metadata": {},
   "outputs": [],
   "source": [
    "\n",
    "# Unit tests\n",
    "class TestBioactivityComparison(unittest.TestCase):\n",
    "    def test_fetch_pubchem_bioactivity(self):\n",
    "        data = fetch_pubchem_bioactivity(\"P00734\")  # Example UniProt ID\n",
    "        self.assertIsInstance(data, list)\n",
    "\n",
    "    def test_fetch_chembl_bioactivity(self):\n",
    "        data = fetch_chembl_bioactivity(\"P00734\")\n",
    "        self.assertIsInstance(data, list)\n",
    "\n",
    "    def test_extract_pubchem_go_terms(self):\n",
    "        data = extract_pubchem_go_terms(\"P00734\")\n",
    "        self.assertIsInstance(data, list)\n",
    "\n",
    "    def test_extract_chembl_go_terms(self):\n",
    "        data = extract_chembl_go_terms(\"P00734\")\n",
    "        self.assertIsInstance(data, list)\n"
   ]
  },
  {
   "cell_type": "code",
   "execution_count": null,
   "id": "a05e58d4-cc1b-46fc-bad8-e116961ca392",
   "metadata": {},
   "outputs": [],
   "source": [
    "if __name__ == \"__main__\":\n",
    "    main()\n"
   ]
  },
  {
   "cell_type": "code",
   "execution_count": null,
   "id": "4a276ef3-9bb7-453c-b904-1ddee2c5d9bd",
   "metadata": {},
   "outputs": [],
   "source": [
    "%tb\n"
   ]
  },
  {
   "cell_type": "code",
   "execution_count": null,
   "id": "ee731c0c-3a68-4bbd-8893-4d1f46b01f16",
   "metadata": {},
   "outputs": [],
   "source": []
  }
 ],
 "metadata": {
  "kernelspec": {
   "display_name": "Python 3 (ipykernel)",
   "language": "python",
   "name": "python3"
  },
  "language_info": {
   "codemirror_mode": {
    "name": "ipython",
    "version": 3
   },
   "file_extension": ".py",
   "mimetype": "text/x-python",
   "name": "python",
   "nbconvert_exporter": "python",
   "pygments_lexer": "ipython3",
   "version": "3.9.20"
  }
 },
 "nbformat": 4,
 "nbformat_minor": 5
}
