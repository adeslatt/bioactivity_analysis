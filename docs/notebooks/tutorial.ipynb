# Bioactivity Data Analysis with PubChem and ChEMBL

This notebook provides an interactive way to explore bioactivity data for a specific protein target using UniProt IDs.

---

## Setup

```python
# Import dependencies
import requests
import pandas as pd
import matplotlib.pyplot as plt
from chembl_webresource_client.new_client import new_client

# Functions for PubChem
def fetch_pubchem_bioactivity(uniprot_id):
    url = f"https://pubchem.ncbi.nlm.nih.gov/rest/pug/assay/target/ProteinGI/UniProtID/{uniprot_id}/concise/JSON"
    response = requests.get(url)
    if response.status_code == 200:
        return response.json().get('Table', {}).get('Row', [])
    return []

# Functions for ChEMBL
def fetch_chembl_bioactivity(uniprot_id):
    target = new_client.target.filter(target_components__accession=uniprot_id)
    targets = list(target)
    if not targets:
        return []
    target_chembl_id = targets[0]['target_chembl_id']
    return list(new_client.activity.filter(target_chembl_id=target_chembl_id))

# Visualization
def visualize_overlap(pubchem_data, chembl_data):
    pubchem_ids = {entry['CID'] for entry in pubchem_data if 'CID' in entry}
    chembl_ids = {entry['molecule_chembl_id'] for entry in chembl_data if 'molecule_chembl_id' in entry}
    plt.figure(figsize=(6, 6))
    plt.title("Bioactivity Overlap")
    plt.gca().add_patch(plt.Circle((0.4, 0.5), 0.3, fill=False, label="PubChem"))
    plt.gca().add_patch(plt.Circle((0.6, 0.5), 0.3, fill=False, label="ChEMBL"))
    plt.legend()
    plt.show()
